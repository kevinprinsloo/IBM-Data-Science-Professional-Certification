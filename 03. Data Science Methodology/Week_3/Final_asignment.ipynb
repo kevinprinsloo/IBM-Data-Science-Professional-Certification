{
 "cells": [
  {
   "cell_type": "markdown",
   "metadata": {},
   "source": [
    "# Final assignment"
   ]
  },
  {
   "cell_type": "markdown",
   "metadata": {},
   "source": [
    "## Credit Cards:\n",
    "High Street commercial banks receive vast amounts of applications for credit cards. Using machine learning techniques banks and other financial organisations can reduce errors, application decision times and increase revenue while reducing costs.\n",
    "\n",
    "- High Street commercial banks receive vast amounts of applications for credit cards. Many applications get rejected for various reasons. For example, high loan balances, low-income levels, or too many inquiries on an individual's credit report. The issue at hand is that manually assessing credit card applications is far too cumbersome and time consuming, error-prone, all of which affect a business’s production and costs. However, using Machine Learning (ML) applications this process can be automated and mosey if not all commercial banks leverage ML techniques.\n",
    "- Can a data science team implement a machine learning model to automatically process credit card applications. Can the model reduce errors and speed up processing times? Can we evaluate post model deployment performance compared to prior deployment?\n",
    "\n",
    "1. ***Analytic Approach:***</p>\n",
    "We will use a predictive classification model: As the problem requires a yes/no answer we will use a classification model\n",
    "\n",
    "2. ***Data Requirements:***</p>\n",
    "To create the classification model, we will require information regarding the bank clients. This info should include:\n",
    "Income, Age, Debt, Employment information, Credit Score, Address, Prior Default, Education information, Approval Status.\n",
    "\n",
    "3. ***Data Collection:***</p>\n",
    "Data collection might come from current accounts with bank of application or other external sources such as public financial records, credit score companies and other financial and government institutions. \n",
    "\n",
    "4. ***Data Understanding and Preparation:***</p>\n",
    "Exploratory Data Analyses (EDA), Descriptive statistics and data visualizations. Feature engineering (label encoding etc), missing data, outlier handling, removal, incorrect labelling, and redundant information.\n",
    "\n",
    "5. ***Modeling and Evaluation:***</p>\n",
    "Fitting a Logistic Regression Model to the training set using the sklearn package. Essentially, predicting if a credit card application will be approved or not is a classification task. We will now evaluate our model on the test set with respect to classification accuracy. But we will also take a look the model’s confusion matrix. In the case of predicting credit card applications, it is equally important to see if our machine learning model is able to predict the approval status of the applications as denied that originally got denied. We will also use Grid Search and making the model perform better, i.e., using cross-validation."
   ]
  }
 ],
 "metadata": {
  "kernelspec": {
   "display_name": "Python 3.9.7 ('MyCourseEnvKP')",
   "language": "python",
   "name": "python3"
  },
  "language_info": {
   "codemirror_mode": {
    "name": "ipython",
    "version": 3
   },
   "file_extension": ".py",
   "mimetype": "text/x-python",
   "name": "python",
   "nbconvert_exporter": "python",
   "pygments_lexer": "ipython3",
   "version": "3.9.7"
  },
  "orig_nbformat": 4,
  "vscode": {
   "interpreter": {
    "hash": "c1e9da2abdb90b884f8654ce86b0032d948d59cb08391585e54e02164ed3134f"
   }
  }
 },
 "nbformat": 4,
 "nbformat_minor": 2
}
